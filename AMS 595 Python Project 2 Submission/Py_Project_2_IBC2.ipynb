{
 "cells": [
  {
   "cell_type": "markdown",
   "metadata": {},
   "source": [
    "# Eshan Shakrani - 112802596"
   ]
  },
  {
   "cell_type": "markdown",
   "metadata": {},
   "source": [
    "### Import Libraries"
   ]
  },
  {
   "cell_type": "code",
   "execution_count": 1,
   "metadata": {},
   "outputs": [],
   "source": [
    "import numpy as np\n",
    "import h5py\n",
    "import matplotlib.pyplot as plt\n",
    "import scipy\n",
    "from PIL import Image \n",
    "from scipy import ndimage "
   ]
  },
  {
   "cell_type": "markdown",
   "metadata": {},
   "source": [
    "### Load Data"
   ]
  },
  {
   "cell_type": "code",
   "execution_count": 3,
   "metadata": {},
   "outputs": [
    {
     "name": "stdout",
     "output_type": "stream",
     "text": [
      "<HDF5 dataset \"train_set_x\": shape (209, 64, 64, 3), type \"|u1\">\n",
      "<HDF5 dataset \"train_set_y\": shape (209,), type \"<i8\">\n",
      "<HDF5 dataset \"list_classes\": shape (2,), type \"|S7\">\n",
      "Possible labels for each sample:\n",
      "\t- b'non-cat'\n",
      "\t- b'cat'\n"
     ]
    }
   ],
   "source": [
    "# Only using the training set for this task\n",
    "train_data = h5py.File('data/train_catvnoncat.h5')\n",
    "\n",
    "print(train_data['train_set_x'])\n",
    "print(train_data['train_set_y'])\n",
    "print(train_data['list_classes'])\n",
    "\n",
    "print('Possible labels for each sample:')\n",
    "for label in train_data['list_classes']:\n",
    "    print('\\t-', label)"
   ]
  },
  {
   "cell_type": "markdown",
   "metadata": {},
   "source": [
    "### Split Training / Testing Data and Separate into Features / Labels"
   ]
  },
  {
   "cell_type": "code",
   "execution_count": 6,
   "metadata": {},
   "outputs": [],
   "source": [
    "# size of training set = 160 + last digit of ID\n",
    "last_digit = 6\n",
    "train_size = 160 + last_digit \n",
    "\n",
    "# training set\n",
    "X_train = train_data['train_set_x'][:train_size]\n",
    "Y_train = train_data['train_set_y'][:train_size]\n",
    "\n",
    "# testing set\n",
    "X_test = train_data['train_set_x'][train_size:]\n",
    "Y_test = train_data['train_set_y'][train_size:]\n",
    "\n",
    "# list of labels\n",
    "labels = train_data['list_classes']"
   ]
  },
  {
   "cell_type": "markdown",
   "metadata": {},
   "source": [
    "### Flatten and Normalize the Data"
   ]
  },
  {
   "cell_type": "code",
   "execution_count": 13,
   "metadata": {},
   "outputs": [],
   "source": [
    "# for each sample, convert the (64, 64, 3) size data into a vector\n",
    "# of size 12288 (= 64 * 64 * 3)\n",
    "# then normalize the data by dividing by 255\n",
    "\n",
    "dims = np.prod(X_train.shape[1:4]) # 12288\n",
    "num_samples_train = X_train.shape[0]\n",
    "num_samples_test = X_test.shape[0]\n",
    "\n",
    "# X_train data: original shape (166, 64, 64, 3) -> new shape (166, 12288)\n",
    "X_train_flat = X_train.reshape((num_samples_train, dims))\n",
    "X_train_flat = X_train_flat / 255 \n",
    "\n",
    "# X_test data: original shape (43, 64, 64, 3) -> new shape (43, 12288)\n",
    "X_test_flat = X_test.reshape((num_samples_test, dims))\n",
    "X_test_flat = X_test_flat / 255 \n",
    "\n",
    "# Y_train data: original shape (166, ) -> new shape (166, 1)\n",
    "Y_train = Y_train.reshape(num_samples_train, 1)\n",
    "\n",
    "# Y_test data: original shape (43, ) -> new shape (43, 1)\n",
    "Y_test = Y_test.reshape(num_samples_test, 1)"
   ]
  },
  {
   "cell_type": "markdown",
   "metadata": {},
   "source": [
    "### Helper Functions"
   ]
  },
  {
   "cell_type": "code",
   "execution_count": 14,
   "metadata": {},
   "outputs": [],
   "source": [
    "# return a probability value [0, 1] for a given input z\n",
    "def sigmoid(z):\n",
    "    return 1 / (1 + np.exp(-z))"
   ]
  },
  {
   "cell_type": "markdown",
   "metadata": {},
   "source": [
    "$$\n",
    "A = \\sigma(Xw + b)\n",
    "$$"
   ]
  },
  {
   "cell_type": "code",
   "execution_count": 15,
   "metadata": {},
   "outputs": [],
   "source": [
    "def propagate(w, b, X, Y):\n",
    "    '''\n",
    "    Implement the cost function and its gradient \n",
    "\n",
    "    Arguments: \n",
    "    w: weights - numpy array of size (num_px * num_px * 3, 1)\n",
    "    b: bias - scalar\n",
    "    X: data of size (num. samples, num_px * num_px * 3)\n",
    "    Y: true \"label\" vector (0 - non-cat, 1 - cat) of size (num_samples, 1)\n",
    "\n",
    "    Return:\n",
    "    dw: gradient of loss function w.r.t. w - same shape as w\n",
    "    db: gradient of loss function w.r.t. b - same shape as b\n",
    "    cost: negative log-likelihood cost for logistic regression\n",
    "    '''\n",
    "\n",
    "    m = X.shape[0]\n",
    "\n",
    "    # Forward propagation (X -> cost)\n",
    "    A = sigmoid(np.dot(X, w) + b)\n",
    "\n",
    "    cost = np.sum(((-1 * np.log(A)) * Y + (-1 * np.log(1 - A)) * (1 - Y))) / m \n",
    "\n",
    "    # Backward propagation (to find gradient)\n",
    "    dw = (np.dot(X.T, (A-Y))) / m\n",
    "    db = (np.sum(A-Y)) / m \n",
    "\n",
    "    cost = np.squeeze(cost)\n",
    "\n",
    "    return dw, db, cost "
   ]
  },
  {
   "cell_type": "markdown",
   "metadata": {},
   "source": [
    "### Training"
   ]
  },
  {
   "cell_type": "code",
   "execution_count": 16,
   "metadata": {},
   "outputs": [
    {
     "name": "stdout",
     "output_type": "stream",
     "text": [
      "Iteration 0: \tCost: 0.6931471805599454\n",
      "Iteration 50: \tCost: 0.7059052924158286\n",
      "Iteration 100: \tCost: 0.6196287394073179\n",
      "Iteration 150: \tCost: 0.5470636293479835\n",
      "Iteration 200: \tCost: 0.4799536582254645\n",
      "Iteration 250: \tCost: 0.4163965057024223\n",
      "Iteration 300: \tCost: 0.3567922373562415\n",
      "Iteration 350: \tCost: 0.3033860478877636\n",
      "Iteration 400: \tCost: 0.2631493034009605\n",
      "Iteration 450: \tCost: 0.24387291512703377\n",
      "Iteration 500: \tCost: 0.23113045748075917\n",
      "Iteration 550: \tCost: 0.21971692358380165\n",
      "Iteration 600: \tCost: 0.2093794801974274\n",
      "Iteration 650: \tCost: 0.19996232187714555\n",
      "Iteration 700: \tCost: 0.19134227171451693\n",
      "Iteration 750: \tCost: 0.1834192272765549\n",
      "Iteration 800: \tCost: 0.17611028670717044\n",
      "Iteration 850: \tCost: 0.16934583251313615\n",
      "Iteration 900: \tCost: 0.16306676761456124\n",
      "Iteration 950: \tCost: 0.15722248264845265\n",
      "Iteration 1000: \tCost: 0.1517693149306577\n",
      "Iteration 1050: \tCost: 0.14666935300446932\n",
      "Iteration 1100: \tCost: 0.14188949256878877\n",
      "Iteration 1150: \tCost: 0.13740068019489196\n",
      "Iteration 1200: \tCost: 0.1331773003073334\n",
      "Iteration 1250: \tCost: 0.1291966733273628\n",
      "Iteration 1300: \tCost: 0.12543864128141677\n",
      "Iteration 1350: \tCost: 0.12188522304154491\n",
      "Iteration 1400: \tCost: 0.11852032556218302\n",
      "Iteration 1450: \tCost: 0.11532950054618424\n",
      "Iteration 1500: \tCost: 0.11229973825603778\n",
      "Iteration 1550: \tCost: 0.10941929191039641\n",
      "Iteration 1600: \tCost: 0.10667752742502153\n",
      "Iteration 1650: \tCost: 0.10406479427766123\n",
      "Iteration 1700: \tCost: 0.10157231407363605\n",
      "Iteration 1750: \tCost: 0.09919208401736224\n",
      "Iteration 1800: \tCost: 0.09691679299439969\n",
      "Iteration 1850: \tCost: 0.09473974836827033\n",
      "Iteration 1900: \tCost: 0.09265481191829887\n",
      "Iteration 1950: \tCost: 0.09065634360575119\n",
      "Iteration 2000: \tCost: 0.08873915206834056\n",
      "Iteration 2050: \tCost: 0.08689845091756708\n",
      "Iteration 2100: \tCost: 0.08512982005698433\n",
      "Iteration 2150: \tCost: 0.0834291713583244\n",
      "Iteration 2200: \tCost: 0.08179271813117334\n",
      "Iteration 2250: \tCost: 0.08021694790429343\n",
      "Iteration 2300: \tCost: 0.07869859810572227\n",
      "Iteration 2350: \tCost: 0.07723463428682334\n",
      "Iteration 2400: \tCost: 0.07582223058443843\n",
      "Iteration 2450: \tCost: 0.07445875215675699\n",
      "Iteration 2500: \tCost: 0.07314173936373788\n",
      "Iteration 2550: \tCost: 0.07186889349292255\n",
      "Iteration 2600: \tCost: 0.0706380638571211\n",
      "Iteration 2650: \tCost: 0.06944723611242357\n",
      "Iteration 2700: \tCost: 0.06829452166386932\n",
      "Iteration 2750: \tCost: 0.0671781480423742\n",
      "Iteration 2800: \tCost: 0.0660964501505637\n",
      "Iteration 2850: \tCost: 0.06504786228732706\n",
      "Iteration 2900: \tCost: 0.06403091087146257\n",
      "Iteration 2950: \tCost: 0.06304420779397091\n",
      "Iteration 3000: \tCost: 0.06208644433655785\n",
      "Iteration 3050: \tCost: 0.06115638560090354\n",
      "Iteration 3100: \tCost: 0.06025286539937929\n",
      "Iteration 3150: \tCost: 0.05937478156326379\n",
      "Iteration 3200: \tCost: 0.05852109162923332\n",
      "Iteration 3250: \tCost: 0.05769080886905653\n",
      "Iteration 3300: \tCost: 0.05688299863109292\n",
      "Iteration 3350: \tCost: 0.056096774965434346\n",
      "Iteration 3400: \tCost: 0.055331297507398736\n",
      "Iteration 3450: \tCost: 0.054585768596629274\n",
      "Iteration 3500: \tCost: 0.053859430611310426\n",
      "Iteration 3550: \tCost: 0.05315156349902471\n",
      "Iteration 3600: \tCost: 0.05246148248756217\n",
      "Iteration 3650: \tCost: 0.05178853596059422\n",
      "Iteration 3700: \tCost: 0.05113210348455005\n",
      "Iteration 3750: \tCost: 0.05049159397431154\n",
      "Iteration 3800: \tCost: 0.04986644398648744\n",
      "Iteration 3850: \tCost: 0.049256116130054005\n",
      "Iteration 3900: \tCost: 0.04866009758507267\n",
      "Iteration 3950: \tCost: 0.04807789872102421\n",
      "Iteration 4000: \tCost: 0.0475090518070477\n",
      "Iteration 4050: \tCost: 0.04695310980704469\n",
      "Iteration 4100: \tCost: 0.04640964525321992\n",
      "Iteration 4150: \tCost: 0.04587824919217753\n",
      "Iteration 4200: \tCost: 0.04535853019819097\n",
      "Iteration 4250: \tCost: 0.04485011344871511\n",
      "Iteration 4300: \tCost: 0.04435263985761756\n",
      "Iteration 4350: \tCost: 0.04386576526197832\n",
      "Iteration 4400: \tCost: 0.0433891596586424\n",
      "Iteration 4450: \tCost: 0.04292250648701872\n",
      "Iteration 4500: \tCost: 0.04246550195489708\n",
      "Iteration 4550: \tCost: 0.042017854404308295\n",
      "Iteration 4600: \tCost: 0.04157928371468791\n",
      "Iteration 4650: \tCost: 0.041149520740812504\n",
      "Iteration 4700: \tCost: 0.04072830678317365\n",
      "Iteration 4750: \tCost: 0.04031539308863139\n",
      "Iteration 4800: \tCost: 0.03991054037935072\n",
      "Iteration 4850: \tCost: 0.03951351840817393\n",
      "Iteration 4900: \tCost: 0.039124105538718014\n",
      "Iteration 4950: \tCost: 0.038742088348611196\n",
      "Iteration 5000: \tCost: 0.038367261254397926\n",
      "Iteration 5050: \tCost: 0.03799942615674698\n",
      "Iteration 5100: \tCost: 0.03763839210469521\n",
      "Iteration 5150: \tCost: 0.037283974977748414\n",
      "Iteration 5200: \tCost: 0.03693599718474311\n",
      "Iteration 5250: \tCost: 0.0365942873784503\n",
      "Iteration 5300: \tCost: 0.036258680184970825\n",
      "Iteration 5350: \tCost: 0.03592901594703771\n",
      "Iteration 5400: \tCost: 0.03560514048040099\n",
      "Iteration 5450: \tCost: 0.0352869048425246\n",
      "Iteration 5500: \tCost: 0.034974165112878056\n",
      "Iteration 5550: \tCost: 0.03466678218415076\n",
      "Iteration 5600: \tCost: 0.034364621563763055\n",
      "Iteration 5650: \tCost: 0.034067553185087175\n",
      "Iteration 5700: \tCost: 0.0337754512278295\n",
      "Iteration 5750: \tCost: 0.033488193947061276\n",
      "Iteration 5800: \tCost: 0.03320566351041618\n",
      "Iteration 5850: \tCost: 0.032927745843004674\n",
      "Iteration 5900: \tCost: 0.03265433047962287\n",
      "Iteration 5950: \tCost: 0.03238531042385883\n",
      "Iteration 6000: \tCost: 0.03212058201372528\n",
      "Iteration 6050: \tCost: 0.03186004479346906\n",
      "Iteration 6100: \tCost: 0.03160360139122948\n",
      "Iteration 6150: \tCost: 0.031351157402237144\n",
      "Iteration 6200: \tCost: 0.031102621277263334\n",
      "Iteration 6250: \tCost: 0.030857904216047755\n",
      "Iteration 6300: \tCost: 0.030616920065446807\n",
      "Iteration 6350: \tCost: 0.030379585222062036\n",
      "Iteration 6400: \tCost: 0.03014581853912031\n",
      "Iteration 6450: \tCost: 0.029915541237391093\n",
      "Iteration 6500: \tCost: 0.029688676819939135\n",
      "Iteration 6550: \tCost: 0.029465150990521057\n",
      "Iteration 6600: \tCost: 0.029244891575446415\n",
      "Iteration 6650: \tCost: 0.029027828448732557\n",
      "Iteration 6700: \tCost: 0.028813893460393727\n",
      "Iteration 6750: \tCost: 0.02860302036771157\n",
      "Iteration 6800: \tCost: 0.028395144769344762\n",
      "Iteration 6850: \tCost: 0.02819020404214162\n",
      "Iteration 6900: \tCost: 0.02798813728052752\n",
      "Iteration 6950: \tCost: 0.027788885238346172\n",
      "Iteration 7000: \tCost: 0.02759239027303958\n",
      "Iteration 7050: \tCost: 0.02739859629205798\n",
      "Iteration 7100: \tCost: 0.027207448701396963\n",
      "Iteration 7150: \tCost: 0.027018894356164055\n",
      "Iteration 7200: \tCost: 0.026832881513081906\n",
      "Iteration 7250: \tCost: 0.02664935978484096\n",
      "Iteration 7300: \tCost: 0.02646828009621788\n",
      "Iteration 7350: \tCost: 0.0262895946418808\n",
      "Iteration 7400: \tCost: 0.026113256845806582\n",
      "Iteration 7450: \tCost: 0.025939221322238647\n",
      "Iteration 7500: \tCost: 0.02576744383811803\n",
      "Iteration 7550: \tCost: 0.02559788127692301\n",
      "Iteration 7600: \tCost: 0.025430491603856627\n",
      "Iteration 7650: \tCost: 0.025265233832323482\n",
      "Iteration 7700: \tCost: 0.025102067991641185\n",
      "Iteration 7750: \tCost: 0.024940955095933293\n",
      "Iteration 7800: \tCost: 0.02478185711415435\n",
      "Iteration 7850: \tCost: 0.02462473694119847\n",
      "Iteration 7900: \tCost: 0.024469558370047186\n",
      "Iteration 7950: \tCost: 0.02431628606491261\n",
      "Iteration 8000: \tCost: 0.024164885535335023\n",
      "Iteration 8050: \tCost: 0.02401532311119555\n",
      "Iteration 8100: \tCost: 0.0238675659186068\n",
      "Iteration 8150: \tCost: 0.023721581856645173\n",
      "Iteration 8200: \tCost: 0.023577339574891727\n",
      "Iteration 8250: \tCost: 0.023434808451748185\n",
      "Iteration 8300: \tCost: 0.02329395857349779\n",
      "Iteration 8350: \tCost: 0.023154760714081173\n",
      "Iteration 8400: \tCost: 0.023017186315558786\n",
      "Iteration 8450: \tCost: 0.02288120746923334\n",
      "Iteration 8500: \tCost: 0.02274679689740611\n",
      "Iteration 8550: \tCost: 0.02261392793574271\n",
      "Iteration 8600: \tCost: 0.022482574516224554\n",
      "Iteration 8650: \tCost: 0.02235271115066373\n",
      "Iteration 8700: \tCost: 0.022224312914759525\n",
      "Iteration 8750: \tCost: 0.022097355432676182\n",
      "Iteration 8800: \tCost: 0.02197181486212208\n",
      "Iteration 8850: \tCost: 0.021847667879911475\n",
      "Iteration 8900: \tCost: 0.021724891667990742\n",
      "Iteration 8950: \tCost: 0.02160346389991189\n",
      "Iteration 9000: \tCost: 0.02148336272773668\n",
      "Iteration 9050: \tCost: 0.021364566769355473\n",
      "Iteration 9100: \tCost: 0.021247055096205825\n",
      "Iteration 9150: \tCost: 0.021130807221375905\n",
      "Iteration 9200: \tCost: 0.02101580308807912\n",
      "Iteration 9250: \tCost: 0.020902023058486187\n",
      "Iteration 9300: \tCost: 0.020789447902902224\n",
      "Iteration 9350: \tCost: 0.02067805878927614\n",
      "Iteration 9400: \tCost: 0.020567837273030836\n",
      "Iteration 9450: \tCost: 0.020458765287202526\n",
      "Iteration 9500: \tCost: 0.020350825132878673\n",
      "Iteration 9550: \tCost: 0.02024399946992375\n",
      "Iteration 9600: \tCost: 0.020138271307983038\n",
      "Iteration 9650: \tCost: 0.020033623997754615\n",
      "Iteration 9700: \tCost: 0.01993004122252041\n",
      "Iteration 9750: \tCost: 0.01982750698992749\n",
      "Iteration 9800: \tCost: 0.019726005624010636\n",
      "Iteration 9850: \tCost: 0.019625521757448552\n",
      "Iteration 9900: \tCost: 0.019526040324045504\n",
      "Iteration 9950: \tCost: 0.019427546551430565\n"
     ]
    }
   ],
   "source": [
    "X = X_train_flat \n",
    "Y = Y_train \n",
    "\n",
    "# num. dims (cols) for each sample\n",
    "dim = X_train_flat.shape[1]\n",
    "\n",
    "# initialize weights vector\n",
    "w = np.zeros((dim, 1))\n",
    "\n",
    "# initialize bias term\n",
    "b = 0\n",
    "\n",
    "# hyperparameters\n",
    "num_iterations = 10000\n",
    "learning_rate = 0.006\n",
    "record_cost = 50 # print cost every 50 iterations\n",
    "costs = [] \n",
    "\n",
    "for i in range(num_iterations):\n",
    "    dw, db, cost = propagate(w, b, X, Y) \n",
    "\n",
    "    # gradient descent \n",
    "    w = w - (learning_rate * dw) \n",
    "    b = b - (learning_rate * db) \n",
    "\n",
    "    # record the costs \n",
    "    if i % record_cost == 0:\n",
    "        costs.append(cost) \n",
    "        print(f'Iteration {i}: \\tCost: {cost}')\n",
    "\n",
    "scipy.io.savemat('Py_Project_2_Data/ibc2_weights.mat', {'weights': w})\n",
    "scipy.io.savemat('Py_Project_2_Data/ibc2_biases.mat', {'biases': b})"
   ]
  },
  {
   "cell_type": "markdown",
   "metadata": {},
   "source": [
    "### Results "
   ]
  },
  {
   "cell_type": "code",
   "execution_count": 17,
   "metadata": {},
   "outputs": [
    {
     "name": "stdout",
     "output_type": "stream",
     "text": [
      "Training accuracy: 98.108059\n",
      "Testing accuracy: 51.162791\n"
     ]
    }
   ],
   "source": [
    "# load the results from the training process \n",
    "w = scipy.io.loadmat('Py_Project_2_Data/ibc2_weights.mat')['weights']\n",
    "b = scipy.io.loadmat('Py_Project_2_Data/ibc2_biases.mat')['biases']\n",
    "\n",
    "# calculate probabilities for testing data \n",
    "A = sigmoid(np.dot(X_test_flat, w) + b) \n",
    "\n",
    "# assign labels to the samples using their probabilities \n",
    "Y_test_pred = (A >= 0.5) * 1.0\n",
    "\n",
    "Y_train_pred = sigmoid(np.dot(X, w) + b)\n",
    "\n",
    "print(f'Training accuracy: {(100 - np.mean(np.abs(Y_train_pred - Y_train)) * 100):2f}')\n",
    "\n",
    "print(f'Testing accuracy: {(100 - np.mean(np.abs(Y_test_pred - Y_test)) * 100):2f}')"
   ]
  },
  {
   "cell_type": "markdown",
   "metadata": {},
   "source": [
    "### Report the Indices of Incorrect Test Predictions"
   ]
  },
  {
   "cell_type": "code",
   "execution_count": 18,
   "metadata": {},
   "outputs": [
    {
     "data": {
      "text/plain": [
       "True"
      ]
     },
     "execution_count": 18,
     "metadata": {},
     "output_type": "execute_result"
    }
   ],
   "source": [
    "# check that only the same two labels exist in the true and predicted data \n",
    "np.unique(Y_test_pred).shape == np.unique(Y_test).shape and all(np.unique(Y_test_pred) == np.unique(Y_test))"
   ]
  },
  {
   "cell_type": "code",
   "execution_count": 19,
   "metadata": {},
   "outputs": [
    {
     "data": {
      "text/plain": [
       "(43, 2)"
      ]
     },
     "execution_count": 19,
     "metadata": {},
     "output_type": "execute_result"
    }
   ],
   "source": [
    "# combine the true and predicted data into a single array \n",
    "combined = np.concatenate((Y_test, Y_test_pred), axis = 1)\n",
    "combined.shape"
   ]
  },
  {
   "cell_type": "code",
   "execution_count": 20,
   "metadata": {},
   "outputs": [],
   "source": [
    "# extract the indices from the combined array where the columns don't match \n",
    "diff_indices = np.where(((combined[:, 0] != combined[:, 1])))"
   ]
  },
  {
   "cell_type": "code",
   "execution_count": 21,
   "metadata": {},
   "outputs": [
    {
     "name": "stdout",
     "output_type": "stream",
     "text": [
      "Indices where the model predicted incorrectly:\n",
      "1, 3, 4, 5, 6, 7, 9, 11, 13, 17, 19, 22, 26, 29, 30, 31, 32, 34, 38, 39, 41\n"
     ]
    }
   ],
   "source": [
    "print('Indices where the model predicted incorrectly:')\n",
    "print(', '.join([str(n) for n in diff_indices[0]]))"
   ]
  },
  {
   "cell_type": "markdown",
   "metadata": {},
   "source": [
    "#### Images that were Incorrect Labeled"
   ]
  },
  {
   "cell_type": "code",
   "execution_count": 22,
   "metadata": {},
   "outputs": [
    {
     "data": {
      "image/png": "[encoded data removed]",
      "text/plain": [
       "<Figure size 1000x700 with 4 Axes>"
      ]
     },
     "metadata": {},
     "output_type": "display_data"
    }
   ],
   "source": [
    "# pick 4 indices to show from the incorrect predictions\n",
    "indices = [1, 3, 5, 7]\n",
    "\n",
    "# create figure\n",
    "fig = plt.figure(figsize = (10, 7))\n",
    "\n",
    "# define # of rows / columns\n",
    "rows = 2\n",
    "cols = 2\n",
    "\n",
    "subplot_index = 1\n",
    "for ind in indices: \n",
    "    fig.add_subplot(rows, cols, subplot_index)\n",
    "    subplot_index += 1\n",
    "    plt.imshow(X_test[ind])\n",
    "    plt.axis('off') \n",
    "\n",
    "    # craft the title string for each picture\n",
    "    label_true_int = int(Y_test[ind][0])\n",
    "    label_pred_int = int(Y_test_pred[ind][0])\n",
    "    label_true_str = labels[label_true_int].decode('utf-8')\n",
    "    label_pred_str = labels[label_pred_int].decode('utf-8')\n",
    "    title = f'{label_true_str} incorrectly labeled as {label_pred_str}'\n",
    "    plt.title(title)"
   ]
  }
 ],
 "metadata": {
  "kernelspec": {
   "display_name": "ams595_win",
   "language": "python",
   "name": "python3"
  },
  "language_info": {
   "codemirror_mode": {
    "name": "ipython",
    "version": 3
   },
   "file_extension": ".py",
   "mimetype": "text/x-python",
   "name": "python",
   "nbconvert_exporter": "python",
   "pygments_lexer": "ipython3",
   "version": "3.9.13"
  }
 },
 "nbformat": 4,
 "nbformat_minor": 2
}
