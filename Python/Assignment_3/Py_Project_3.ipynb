{
  "cells": [
    {
      "cell_type": "markdown",
      "metadata": {
        "id": "xq__bChjD04e"
      },
      "source": [
        "# Python Assignment 3"
      ]
    },
    {
      "cell_type": "markdown",
      "metadata": {
        "id": "y7j2V0UDMYLG"
      },
      "source": [
        "⏱⏱⏱**Due: 11/02/2023 11:59 PM** ⏱⏱⏱\n",
        "\n",
        "Please submit your notebook files and upload them to your Git repository. Don't forget to include a link to your Git repository when submitting this file on Brightspace. **Please include all outputs in your notebook, including plots, printouts, etc..**\n",
        "\n",
        "Collaboration is permitted and encouraged; however, it's essential to independently produce and submit your own work. If you collaborate with others, please ensure that you provide their names in the designated section.\n",
        "\n",
        "Collaborators:_____"
      ]
    },
    {
      "cell_type": "markdown",
      "metadata": {
        "id": "SUS30Ew9D04n"
      },
      "source": [
        "##**For Questions 2a and 2b, you can choose one of them to complete, if you completed both, only Questions 2a will be graded.**\n",
        "\n",
        "**This assignment is out of 150 points; surplus points can be applied to other assignments (including Matlab and C/C++). However, it cannot be applied to your final project grade, and your assignment grade will not excced 75% of your total grade.**"
      ]
    },
    {
      "cell_type": "markdown",
      "metadata": {
        "id": "KR0Fl4yAQYad"
      },
      "source": [
        "## 1. Good presentation of your code and outputs; submitting your files to Github (10 pts)"
      ]
    },
    {
      "cell_type": "markdown",
      "metadata": {
        "id": "9WPZWhYQkptT"
      },
      "source": [
        "Ensure thorough and clear comments within your code to explain its functionality.\n",
        "\n",
        "Enhance your plots by adding titles, legends, and axis labels where appropriate to provide clarity.\n",
        "\n",
        "If necessary, employ LaTex notation to present mathematical explanations within the notebook.\n",
        "\n",
        "Divide your code into multiple blocks or cells in Jupyter Notebook and provide descriptive explanations for each block to improve readability.\n",
        "\n",
        "As part of your submission, **include the notebook files and upload them to your Git repository. Additionally, remember to provide a link to your Git repository when submitting the files on Brightspace.** Do not submit a compressed file (.rar, .zip, etc..), submit files separately.\n",
        "\n",
        "If you are tasked with implementing a numerical algorithm, it is expected that you would not rely on pre-existing methods. For example, if you were asked to solve $Ax=b$, you should write your own program to solve, not just by calling numpy.linalg.solve.\n",
        "\n"
      ]
    },
    {
      "cell_type": "markdown",
      "metadata": {
        "id": "U5SL2j0sqnAJ"
      },
      "source": [
        "## 2a. Numerical Integration (30 pts)"
      ]
    },
    {
      "cell_type": "markdown",
      "metadata": {
        "id": "OxwdE468rNAR"
      },
      "source": [
        "For a domain discretized into $N$ equally spaced panels:\n",
        "$$\n",
        "\\Delta x=\\frac{b-a}{N}.\n",
        "$$\n",
        "The approximation to the integral is\n",
        "$$\\begin{aligned}\n",
        "\\int_a^b f(x) d x & \\approx \\frac{\\Delta x}{2} \\sum_{k=1}^N\\left(f\\left(x_{k-1}\\right)+f\\left(x_k\\right)\\right) \\\\\n",
        "& =\\frac{\\Delta x}{2}\\left(f\\left(x_0\\right)+2 f\\left(x_1\\right)+2 f\\left(x_2\\right)+2 f\\left(x_3\\right)+\\cdots+2 f\\left(x_{N-1}\\right)+f\\left(x_N\\right)\\right) \\\\\n",
        "& =\\Delta x\\left(\\sum_{k=1}^{N-1} f\\left(x_k\\right)+\\frac{f\\left(x_N\\right)+f\\left(x_0\\right)}{2}\\right) .\n",
        "\\end{aligned}$$\n",
        "This is the trapezoid rule scheme.\n",
        "\n",
        "\n",
        "Given the function $f(x) = 3x^2 + 2x +2$, your tasks are:\n",
        "\n",
        "1. Carry out the integration symbolically using the SymPy library. Output the result (i.e. print out the result).\n",
        "2. Implement the trapezoid rule to estimate the integral $\\int_{-4}^6 f(x) dx$ using the following values of $N = 10, 20, 40, 80, 160, 320, 640, 1280$. Output the results (i.e. print out the results).\n",
        "3. Plot the absolute error (absolute difference between the numerical approximation and the SymPy result) against N.\n",
        "\n",
        "\n",
        "\n"
      ]
    },
    {
      "cell_type": "code",
      "execution_count": 1,
      "metadata": {},
      "outputs": [],
      "source": [
        "from sympy import *\n",
        "import matplotlib.pyplot as plt \n",
        "import numpy as np \n",
        "import pandas as pd "
      ]
    },
    {
      "cell_type": "code",
      "execution_count": 2,
      "metadata": {},
      "outputs": [],
      "source": [
        "# set up the printing for nice formatting\n",
        "init_printing()"
      ]
    },
    {
      "cell_type": "code",
      "execution_count": 3,
      "metadata": {},
      "outputs": [],
      "source": [
        "# define the symbol for x\n",
        "x = Symbol('x')"
      ]
    },
    {
      "cell_type": "code",
      "execution_count": 4,
      "metadata": {},
      "outputs": [
        {
          "data": {
            "image/png": "[encoded data removed]",
            "text/latex": [
              "$\\displaystyle f{\\left(x \\right)} = 3 x^{2} + 2 x + 2$"
            ],
            "text/plain": [
              "          2          \n",
              "f(x) = 3⋅x  + 2⋅x + 2"
            ]
          },
          "execution_count": 4,
          "metadata": {},
          "output_type": "execute_result"
        }
      ],
      "source": [
        "# define the given function\n",
        "f = Function('f')\n",
        "fx = 3 * x ** 2 + 2 * x + 2\n",
        "Eq(f(x), fx)"
      ]
    },
    {
      "cell_type": "markdown",
      "metadata": {},
      "source": [
        "#### Result for Task 2a-1"
      ]
    },
    {
      "cell_type": "code",
      "execution_count": 5,
      "metadata": {},
      "outputs": [
        {
          "data": {
            "image/png": "[encoded data removed]",
            "text/latex": [
              "$\\displaystyle \\int \\left(3 x^{2} + 2 x + 2\\right)\\, dx = x^{3} + x^{2} + 2 x$"
            ],
            "text/plain": [
              "⌠                                    \n",
              "⎮ ⎛   2          ⎞       3    2      \n",
              "⎮ ⎝3⋅x  + 2⋅x + 2⎠ dx = x  + x  + 2⋅x\n",
              "⌡                                    "
            ]
          },
          "execution_count": 5,
          "metadata": {},
          "output_type": "execute_result"
        }
      ],
      "source": [
        "# integrate the function\n",
        "Eq(Integral(fx, x), integrate(fx, x))"
      ]
    },
    {
      "cell_type": "code",
      "execution_count": 6,
      "metadata": {},
      "outputs": [
        {
          "data": {
            "image/png": "[encoded data removed]",
            "text/latex": [
              "$\\displaystyle \\int\\limits_{-4}^{6} \\left(3 x^{2} + 2 x + 2\\right)\\, dx = 320$"
            ],
            "text/plain": [
              "6                           \n",
              "⌠                           \n",
              "⎮  ⎛   2          ⎞         \n",
              "⎮  ⎝3⋅x  + 2⋅x + 2⎠ dx = 320\n",
              "⌡                           \n",
              "-4                          "
            ]
          },
          "execution_count": 6,
          "metadata": {},
          "output_type": "execute_result"
        }
      ],
      "source": [
        "# get exact value for integration from x = -4 to x = 6\n",
        "true_result = integrate(fx, (x, -4, 6))\n",
        "Eq(Integral(fx, (x, -4, 6)), true_result)"
      ]
    },
    {
      "cell_type": "code",
      "execution_count": 7,
      "metadata": {},
      "outputs": [
        {
          "data": {
            "image/png": "[encoded data removed]",
            "text/latex": [
              "$\\displaystyle \\int f{\\left(x \\right)}\\, dx = \\Delta x \\left(\\frac{f{\\left(x_{0} \\right)}}{2} + \\frac{f{\\left(x_{N} \\right)}}{2} + \\sum_{k=1}^{N - 1} f{\\left(x_{k} \\right)}\\right)$"
            ],
            "text/plain": [
              "                ⎛                 N - 1      ⎞\n",
              "                ⎜                  ___       ⎟\n",
              "                ⎜                  ╲         ⎟\n",
              "⌠               ⎜f(x₀)   f(x_N)     ╲        ⎟\n",
              "⎮ f(x) dx = Δ⋅x⋅⎜───── + ────── +   ╱   f(xₖ)⎟\n",
              "⌡               ⎜  2       2       ╱         ⎟\n",
              "                ⎜                  ‾‾‾       ⎟\n",
              "                ⎝                 k = 1      ⎠"
            ]
          },
          "execution_count": 7,
          "metadata": {},
          "output_type": "execute_result"
        }
      ],
      "source": [
        "# trapezoidal rule for integral approximation\n",
        "Eq(Integral(f(x), x), Symbol('Delta') * x * Add(Sum(f(Symbol('x_k')), (Symbol('k'), 1, Symbol('N') - 1)) + (Add(f(Symbol('x_N')) + f(Symbol('x_0'))))/2), evaluate=False)"
      ]
    },
    {
      "cell_type": "code",
      "execution_count": 8,
      "metadata": {},
      "outputs": [],
      "source": [
        "# use lambdify to redefine the function so it can be evaluated \n",
        "# over a range of values\n",
        "fx = lambdify([x], 3 * x ** 2 + 2 * x + 2, 'numpy')"
      ]
    },
    {
      "cell_type": "code",
      "execution_count": 9,
      "metadata": {},
      "outputs": [],
      "source": [
        "# values of n to be used for calculations using trapezoid rule\n",
        "n_list = [10, 20, 40, 80, 160, 320, 640, 1280]\n",
        "\n",
        "# constant values\n",
        "a, b = -4, 6\n",
        "\n",
        "# list to hold the integral estimations for each value of n\n",
        "results = []\n",
        "\n",
        "for n in n_list:\n",
        "    # the change in x from x_k to x_k+1\n",
        "    # the greater the value of n, the smaller the subdivisions\n",
        "    #  between a and b\n",
        "    delta_x = (b - a) / n\n",
        "\n",
        "    # values of x_N and x_0 to use in the calculation\n",
        "    xN = b \n",
        "    x0 = a\n",
        "    \n",
        "    # the summation in the formula starts with x_1 and stops \n",
        "    #   at x_N-1\n",
        "    # x_1 = x_0 + delta_x\n",
        "    x_curr = x0 + delta_x\n",
        "\n",
        "    # carry out the summation\n",
        "    total = 0 \n",
        "    for i in range(1, n):\n",
        "        total += fx(x_curr)\n",
        "        x_curr += delta_x \n",
        "    \n",
        "    total += (fx(xN) + fx(x0)) / 2\n",
        "\n",
        "    # multiply the current total by delta_x\n",
        "    total = total * delta_x\n",
        "\n",
        "    results.append(total)\n"
      ]
    },
    {
      "cell_type": "markdown",
      "metadata": {},
      "source": [
        "#### Result for Task 2a-2"
      ]
    },
    {
      "cell_type": "code",
      "execution_count": 10,
      "metadata": {},
      "outputs": [
        {
          "name": "stdout",
          "output_type": "stream",
          "text": [
            "N:\t\t|  Trapezoid Rule Estimation:\n",
            "___________________________________________\n",
            "10 \t\t|  325.0\n",
            "20 \t\t|  321.25\n",
            "40 \t\t|  320.3125\n",
            "80 \t\t|  320.078125\n",
            "160 \t\t|  320.01953125\n",
            "320 \t\t|  320.0048828125\n",
            "640 \t\t|  320.001220703125\n",
            "1280 \t\t|  320.00030517578125\n"
          ]
        }
      ],
      "source": [
        "print('N:\\t\\t|  Trapezoid Rule Estimation:')\n",
        "print('_'*43)\n",
        "for i, n in enumerate(n_list):\n",
        "    print(n, '\\t\\t| ', results[i])"
      ]
    },
    {
      "cell_type": "code",
      "execution_count": 11,
      "metadata": {},
      "outputs": [
        {
          "name": "stdout",
          "output_type": "stream",
          "text": [
            "N:\t\t|  Absolute Error:\n",
            "________________________________________\n",
            "10 \t\t|  5\n",
            "20 \t\t|  1.25\n",
            "40 \t\t|  0.3125\n",
            "80 \t\t|  0.078125\n",
            "160 \t\t|  0.01953125\n",
            "320 \t\t|  0.0048828125\n",
            "640 \t\t|  0.001220703125\n",
            "1280 \t\t|  0.00030517578125\n"
          ]
        }
      ],
      "source": [
        "# calculate the absolute error from the true integral value for \n",
        "# each value of N\n",
        "\n",
        "def abs_val(x: float) -> float: \n",
        "    # returns the absolute value of the input x\n",
        "    return x if x > 0 else -1 * x \n",
        "\n",
        "errors = [abs_val(result - true_result) for result in results] \n",
        "\n",
        "print('N:\\t\\t|  Absolute Error:')\n",
        "print('_'*40)\n",
        "for i, n in enumerate(n_list):\n",
        "    print(n, '\\t\\t| ', str(errors[i]).rstrip('0').rstrip('.'))"
      ]
    },
    {
      "cell_type": "markdown",
      "metadata": {},
      "source": [
        "#### Result for Task 2a-3"
      ]
    },
    {
      "cell_type": "code",
      "execution_count": 12,
      "metadata": {},
      "outputs": [
        {
          "data": {
            "text/plain": [
              "<matplotlib.collections.PathCollection at 0x1c26bad98b0>"
            ]
          },
          "execution_count": 12,
          "metadata": {},
          "output_type": "execute_result"
        },
        {
          "data": {
            "image/png": "[encoded data removed]",
            "text/plain": [
              "<Figure size 640x480 with 1 Axes>"
            ]
          },
          "metadata": {},
          "output_type": "display_data"
        }
      ],
      "source": [
        "# plot the absolute error against N\n",
        "fig, ax = plt.subplots()\n",
        "fig.suptitle('Absolute Error vs. N')\n",
        "fig.supxlabel('N')\n",
        "fig.supylabel('Absolute Error')\n",
        "ax.grid(True)\n",
        "ax.scatter(n_list, errors, color='blue')"
      ]
    },
    {
      "cell_type": "markdown",
      "metadata": {
        "id": "uzMa1xSEwhe3"
      },
      "source": [
        "## 2b. Numerical Differentiation (30 pts)"
      ]
    },
    {
      "cell_type": "markdown",
      "metadata": {
        "id": "FoA2lb0VxDk4"
      },
      "source": [
        "Your tasks:\n",
        "1. Find the closed form expression of $f_{xy}(x,y)$, i.e. $\\frac{d^2}{dxdy}f(x,y)$, for $f(x,y) = \\left(sin^2\\left(x\\right)e^xcos(y)\\right)$ using `sympy`. Output the result.\n",
        "2. Find $f_{xy}(2,3)$ with `sympy` and take 15 significant digits, use it as the \"groud truth solution\". Output the result.\n",
        "3. Approximate $f_{xy}(2,3)$ using central difference approximation for the following values of $h = 0.1, 0.01, 0.001, 0.0001$. Output the results.\n",
        "4. Plot the absolute error (absolute difference between the numerical approximation and the SymPy result) against the step size $h$. `plt.gca().invert_xaxis() ` might help.\n",
        "\n",
        "Recall from the lecture:\n",
        "$$f_{x y}(x, y) \\approx \\frac{f(x+h, y+k)-f(x+h, y-k)-f(x-h, y+k)+f(x-h, y-k)}{4 h k}.$$\n",
        "For simplicity, we set $k = h$."
      ]
    },
    {
      "cell_type": "code",
      "execution_count": 13,
      "metadata": {},
      "outputs": [
        {
          "data": {
            "image/png": "[encoded data removed]",
            "text/latex": [
              "$\\displaystyle f{\\left(x,y \\right)} = e^{x} \\sin^{2}{\\left(x \\right)} \\cos{\\left(y \\right)}$"
            ],
            "text/plain": [
              "           x    2          \n",
              "f(x, y) = ℯ ⋅sin (x)⋅cos(y)"
            ]
          },
          "execution_count": 13,
          "metadata": {},
          "output_type": "execute_result"
        }
      ],
      "source": [
        "y = symbols('y')\n",
        "\n",
        "# define the function\n",
        "fxy = (sin(x) ** 2) * (E ** x) * (cos(y))\n",
        "Eq(f(x, y), fxy)"
      ]
    },
    {
      "cell_type": "markdown",
      "metadata": {},
      "source": [
        "#### Result for Task 2b-1"
      ]
    },
    {
      "cell_type": "code",
      "execution_count": 14,
      "metadata": {},
      "outputs": [
        {
          "data": {
            "image/png": "[encoded data removed]",
            "text/latex": [
              "$\\displaystyle \\frac{\\partial^{2}}{\\partial y\\partial x} e^{x} \\sin^{2}{\\left(x \\right)} \\cos{\\left(y \\right)} = - \\left(\\sin{\\left(x \\right)} + 2 \\cos{\\left(x \\right)}\\right) e^{x} \\sin{\\left(x \\right)} \\sin{\\left(y \\right)}$"
            ],
            "text/plain": [
              "   2                                                            \n",
              "  ∂  ⎛ x    2          ⎞                         x              \n",
              "─────⎝ℯ ⋅sin (x)⋅cos(y)⎠ = -(sin(x) + 2⋅cos(x))⋅ℯ ⋅sin(x)⋅sin(y)\n",
              "∂y ∂x                                                           "
            ]
          },
          "execution_count": 14,
          "metadata": {},
          "output_type": "execute_result"
        }
      ],
      "source": [
        "# differentiate f(x,y) with respect to both x and y\n",
        "dfxy = diff(fxy, x, y)\n",
        "Eq(Derivative(fxy, x, y), dfxy)"
      ]
    },
    {
      "cell_type": "markdown",
      "metadata": {},
      "source": [
        "#### Result for Task 2b-2"
      ]
    },
    {
      "cell_type": "code",
      "execution_count": 15,
      "metadata": {},
      "outputs": [
        {
          "data": {
            "image/png": "[encoded data removed]",
            "text/latex": [
              "$\\displaystyle -0.0730121966594062$"
            ],
            "text/plain": [
              "-0.0730121966594062"
            ]
          },
          "execution_count": 15,
          "metadata": {},
          "output_type": "execute_result"
        }
      ],
      "source": [
        "true_solution = N(dfxy.subs(x, 2).subs(y, 3), 15)\n",
        "true_solution"
      ]
    },
    {
      "cell_type": "code",
      "execution_count": 16,
      "metadata": {},
      "outputs": [],
      "source": [
        "# lambdified version of the original function\n",
        "fxyl = lambdify([x, y], fxy, 'numpy')"
      ]
    },
    {
      "cell_type": "code",
      "execution_count": 17,
      "metadata": {},
      "outputs": [],
      "source": [
        "# values of h to use for central difference approximation\n",
        "h_list = [0.1, 0.01, 0.001, 0.0001]\n",
        "\n",
        "# set values of x and y to calculate\n",
        "x, y = 2, 3\n",
        "\n",
        "# list to store the approximations\n",
        "results_2 = []\n",
        "\n",
        "# in the central difference approximation formula, we use\n",
        "#   k = h for simplicity\n",
        "for h in h_list:\n",
        "    # calculate each of the 4 terms in the numerator\n",
        "    term1 = fxyl(x + h, y + h)\n",
        "    term2 = fxyl(x + h, y - h)\n",
        "    term3 = fxyl(x - h, y + h)\n",
        "    term4 = fxyl(x - h, y - h)\n",
        "\n",
        "    den = 4 * h * h \n",
        "\n",
        "    result = (term1 - term2 - term3 + term4) / den \n",
        "\n",
        "    results_2.append(result)\n"
      ]
    },
    {
      "cell_type": "markdown",
      "metadata": {},
      "source": [
        "#### Result for Task 2b-3"
      ]
    },
    {
      "cell_type": "code",
      "execution_count": 18,
      "metadata": {},
      "outputs": [
        {
          "name": "stdout",
          "output_type": "stream",
          "text": [
            "h:\t\t|  Central Difference Approximation:\n",
            "________________________________________________\n",
            "0.1 \t\t|  -0.06885821524436063\n",
            "0.01 \t\t|  -0.07297034655850965\n",
            "0.001 \t\t|  -0.0730117781788664\n",
            "0.0001 \t\t|  -0.07301219628885747\n"
          ]
        }
      ],
      "source": [
        "print('h:\\t\\t|  Central Difference Approximation:')\n",
        "print('_'*48)\n",
        "for i, h in enumerate(h_list):\n",
        "    print(h, '\\t\\t| ', results_2[i])"
      ]
    },
    {
      "cell_type": "code",
      "execution_count": 19,
      "metadata": {},
      "outputs": [
        {
          "name": "stdout",
          "output_type": "stream",
          "text": [
            "h:\t\t|  Absolute Error:\n",
            "________________________________________\n",
            "0.0001 \t\t|  0.00415398141504557\n",
            "0.001 \t\t|  4.18501008965511e-5\n",
            "0.01 \t\t|  4.18480539804422e-7\n",
            "0.1 \t\t|  3.70548730588283e-1\n"
          ]
        }
      ],
      "source": [
        "# calculate the absolute error from the true value for \n",
        "#   each value of h\n",
        "errors_2 = [abs_val(result - true_solution) for result in results_2]\n",
        "\n",
        "print('h:\\t\\t|  Absolute Error:')\n",
        "print('_'*40)\n",
        "for i, h in enumerate(h_list[::-1]):\n",
        "    print(h, '\\t\\t| ', str(errors_2[i]).rstrip('0').rstrip('.'))"
      ]
    },
    {
      "cell_type": "markdown",
      "metadata": {},
      "source": [
        "#### Result for Task 2b-4"
      ]
    },
    {
      "cell_type": "code",
      "execution_count": 20,
      "metadata": {},
      "outputs": [
        {
          "data": {
            "image/png": "[encoded data removed]",
            "text/plain": [
              "<Figure size 640x480 with 1 Axes>"
            ]
          },
          "metadata": {},
          "output_type": "display_data"
        }
      ],
      "source": [
        "# plot the absolute error against step size h\n",
        "fig, ax = plt.subplots()\n",
        "fig.suptitle('Absolute Error vs h')\n",
        "fig.supylabel('Absolute Error')\n",
        "fig.supxlabel('Step Size (h)')\n",
        "ax.grid(True)\n",
        "ax.scatter(h_list, errors_2)\n",
        "ax.plot(h_list, errors_2, linewidth=0.5, color=\"green\")\n",
        "fig.gca().invert_xaxis()"
      ]
    },
    {
      "cell_type": "code",
      "execution_count": 21,
      "metadata": {},
      "outputs": [
        {
          "data": {
            "image/png": "[encoded data removed]",
            "text/plain": [
              "<Figure size 640x480 with 1 Axes>"
            ]
          },
          "metadata": {},
          "output_type": "display_data"
        }
      ],
      "source": [
        "# same data is plotted, but h is represented with log scale\n",
        "fig, ax = plt.subplots()\n",
        "fig.suptitle('Absolute Error vs h')\n",
        "fig.supylabel('Absolute Error')\n",
        "fig.supxlabel('Step Size (h) (log)')\n",
        "ax.grid(True)\n",
        "ax.set_xscale('log')\n",
        "ax.scatter(h_list, errors_2)\n",
        "ax.plot(h_list, errors_2, linewidth=0.5, color=\"green\")\n",
        "fig.gca().invert_xaxis()"
      ]
    },
    {
      "cell_type": "markdown",
      "metadata": {
        "id": "aCgIDqeLBPjj"
      },
      "source": [
        "## 3. Pandas I (15 pts)"
      ]
    },
    {
      "cell_type": "markdown",
      "metadata": {
        "id": "O1w1avrtBYD5"
      },
      "source": [
        "1. Create a 3x4 (3 rows by 4 columns) pandas DataFrame with the columns named after the following Long Island towns: Hempstead, Babylon, Islip, and Brookhaven. The rows represent 'Population in 2099', 'Population in 2300', 'Population in 2400'. Fill each of the 12 cells in the DataFrame with a random integer from 1000 to 10000, inclusive. `np.random.randint()` might be helpful.\n",
        "For Example:\n",
        "\n",
        "```\n",
        "                    Hempstead  Babylon  Islip  Brookhaven\n",
        "Population in 2099       2931     8043   8414        8661\n",
        "Population in 2300       5444     9227   7393        8007\n",
        "Population in 2400       1660     7977   4730        2940\n",
        "```\n",
        "\n",
        "\n",
        "\n",
        "2. Output the following:\n",
        "  - The entire DataFrame.\n",
        "  - The value in the cell of row #1 (indexing starts with 0) under the Hempstead column.\n",
        "\n",
        "3. Add a new column named Riverhead. Populate this column with the sum of the respective row values from the Islip and Brookhaven columns. Output the entire DataFrame again."
      ]
    },
    {
      "cell_type": "code",
      "execution_count": 22,
      "metadata": {},
      "outputs": [],
      "source": [
        "# set a seed for reproducibility of random numbers\n",
        "np.random.seed(595)\n",
        "\n",
        "# shorthand function to get a random number from 1000 to 10000\n",
        "def r():\n",
        "    return np.random.randint(1000, 10000 + 1)\n",
        "\n",
        "# create a list of dictionaries that will be used to \n",
        "# make the DataFrame\n",
        "dict_list = [ \n",
        "    {'Year': 2099, \n",
        "     'Hempstead': r(),\n",
        "     'Babylon': r(), \n",
        "     'Islip': r(),\n",
        "     'Brookhaven': r()},\n",
        "\n",
        "     {'Year': 2300, \n",
        "     'Hempstead': r(),\n",
        "     'Babylon': r(), \n",
        "     'Islip': r(),\n",
        "     'Brookhaven': r()},\n",
        "\n",
        "     {'Year': 2400, \n",
        "     'Hempstead': r(),\n",
        "     'Babylon': r(), \n",
        "     'Islip': r(),\n",
        "     'Brookhaven': r()},\n",
        "]"
      ]
    },
    {
      "cell_type": "markdown",
      "metadata": {},
      "source": [
        "#### Result of Task 3-1"
      ]
    },
    {
      "cell_type": "code",
      "execution_count": 23,
      "metadata": {},
      "outputs": [
        {
          "data": {
            "text/html": [
              "<div>\n",
              "<style scoped>\n",
              "    .dataframe tbody tr th:only-of-type {\n",
              "        vertical-align: middle;\n",
              "    }\n",
              "\n",
              "    .dataframe tbody tr th {\n",
              "        vertical-align: top;\n",
              "    }\n",
              "\n",
              "    .dataframe thead th {\n",
              "        text-align: right;\n",
              "    }\n",
              "</style>\n",
              "<table border=\"1\" class=\"dataframe\">\n",
              "  <thead>\n",
              "    <tr style=\"text-align: right;\">\n",
              "      <th></th>\n",
              "      <th>Year</th>\n",
              "      <th>Hempstead</th>\n",
              "      <th>Babylon</th>\n",
              "      <th>Islip</th>\n",
              "      <th>Brookhaven</th>\n",
              "    </tr>\n",
              "  </thead>\n",
              "  <tbody>\n",
              "    <tr>\n",
              "      <th>0</th>\n",
              "      <td>2099</td>\n",
              "      <td>2931</td>\n",
              "      <td>8043</td>\n",
              "      <td>8414</td>\n",
              "      <td>8661</td>\n",
              "    </tr>\n",
              "    <tr>\n",
              "      <th>1</th>\n",
              "      <td>2300</td>\n",
              "      <td>5444</td>\n",
              "      <td>9227</td>\n",
              "      <td>7393</td>\n",
              "      <td>8007</td>\n",
              "    </tr>\n",
              "    <tr>\n",
              "      <th>2</th>\n",
              "      <td>2400</td>\n",
              "      <td>1660</td>\n",
              "      <td>7977</td>\n",
              "      <td>4730</td>\n",
              "      <td>2940</td>\n",
              "    </tr>\n",
              "  </tbody>\n",
              "</table>\n",
              "</div>"
            ],
            "text/plain": [
              "   Year  Hempstead  Babylon  Islip  Brookhaven\n",
              "0  2099       2931     8043   8414        8661\n",
              "1  2300       5444     9227   7393        8007\n",
              "2  2400       1660     7977   4730        2940"
            ]
          },
          "execution_count": 23,
          "metadata": {},
          "output_type": "execute_result"
        }
      ],
      "source": [
        "# create the DataFrame from the list of dictionaries\n",
        "df = pd.DataFrame(dict_list)\n",
        "df"
      ]
    },
    {
      "cell_type": "code",
      "execution_count": 24,
      "metadata": {},
      "outputs": [
        {
          "data": {
            "text/html": [
              "<div>\n",
              "<style scoped>\n",
              "    .dataframe tbody tr th:only-of-type {\n",
              "        vertical-align: middle;\n",
              "    }\n",
              "\n",
              "    .dataframe tbody tr th {\n",
              "        vertical-align: top;\n",
              "    }\n",
              "\n",
              "    .dataframe thead th {\n",
              "        text-align: right;\n",
              "    }\n",
              "</style>\n",
              "<table border=\"1\" class=\"dataframe\">\n",
              "  <thead>\n",
              "    <tr style=\"text-align: right;\">\n",
              "      <th></th>\n",
              "      <th>Hempstead Population</th>\n",
              "      <th>Babylon Population</th>\n",
              "      <th>Islip Population</th>\n",
              "      <th>Brookhaven Population</th>\n",
              "    </tr>\n",
              "    <tr>\n",
              "      <th>Year</th>\n",
              "      <th></th>\n",
              "      <th></th>\n",
              "      <th></th>\n",
              "      <th></th>\n",
              "    </tr>\n",
              "  </thead>\n",
              "  <tbody>\n",
              "    <tr>\n",
              "      <th>2099</th>\n",
              "      <td>2931</td>\n",
              "      <td>8043</td>\n",
              "      <td>8414</td>\n",
              "      <td>8661</td>\n",
              "    </tr>\n",
              "    <tr>\n",
              "      <th>2300</th>\n",
              "      <td>5444</td>\n",
              "      <td>9227</td>\n",
              "      <td>7393</td>\n",
              "      <td>8007</td>\n",
              "    </tr>\n",
              "    <tr>\n",
              "      <th>2400</th>\n",
              "      <td>1660</td>\n",
              "      <td>7977</td>\n",
              "      <td>4730</td>\n",
              "      <td>2940</td>\n",
              "    </tr>\n",
              "  </tbody>\n",
              "</table>\n",
              "</div>"
            ],
            "text/plain": [
              "      Hempstead Population  Babylon Population  Islip Population  \\\n",
              "Year                                                               \n",
              "2099                  2931                8043              8414   \n",
              "2300                  5444                9227              7393   \n",
              "2400                  1660                7977              4730   \n",
              "\n",
              "      Brookhaven Population  \n",
              "Year                         \n",
              "2099                   8661  \n",
              "2300                   8007  \n",
              "2400                   2940  "
            ]
          },
          "execution_count": 24,
          "metadata": {},
          "output_type": "execute_result"
        }
      ],
      "source": [
        "df = df.set_index('Year')\n",
        "df = df.add_suffix(' Population')\n",
        "df"
      ]
    },
    {
      "cell_type": "markdown",
      "metadata": {},
      "source": [
        "#### Result of Task 3-2"
      ]
    },
    {
      "cell_type": "code",
      "execution_count": 25,
      "metadata": {},
      "outputs": [
        {
          "data": {
            "text/html": [
              "<div>\n",
              "<style scoped>\n",
              "    .dataframe tbody tr th:only-of-type {\n",
              "        vertical-align: middle;\n",
              "    }\n",
              "\n",
              "    .dataframe tbody tr th {\n",
              "        vertical-align: top;\n",
              "    }\n",
              "\n",
              "    .dataframe thead th {\n",
              "        text-align: right;\n",
              "    }\n",
              "</style>\n",
              "<table border=\"1\" class=\"dataframe\">\n",
              "  <thead>\n",
              "    <tr style=\"text-align: right;\">\n",
              "      <th></th>\n",
              "      <th>Hempstead Population</th>\n",
              "      <th>Babylon Population</th>\n",
              "      <th>Islip Population</th>\n",
              "      <th>Brookhaven Population</th>\n",
              "    </tr>\n",
              "    <tr>\n",
              "      <th>Year</th>\n",
              "      <th></th>\n",
              "      <th></th>\n",
              "      <th></th>\n",
              "      <th></th>\n",
              "    </tr>\n",
              "  </thead>\n",
              "  <tbody>\n",
              "    <tr>\n",
              "      <th>2099</th>\n",
              "      <td>2931</td>\n",
              "      <td>8043</td>\n",
              "      <td>8414</td>\n",
              "      <td>8661</td>\n",
              "    </tr>\n",
              "    <tr>\n",
              "      <th>2300</th>\n",
              "      <td>5444</td>\n",
              "      <td>9227</td>\n",
              "      <td>7393</td>\n",
              "      <td>8007</td>\n",
              "    </tr>\n",
              "    <tr>\n",
              "      <th>2400</th>\n",
              "      <td>1660</td>\n",
              "      <td>7977</td>\n",
              "      <td>4730</td>\n",
              "      <td>2940</td>\n",
              "    </tr>\n",
              "  </tbody>\n",
              "</table>\n",
              "</div>"
            ],
            "text/plain": [
              "      Hempstead Population  Babylon Population  Islip Population  \\\n",
              "Year                                                               \n",
              "2099                  2931                8043              8414   \n",
              "2300                  5444                9227              7393   \n",
              "2400                  1660                7977              4730   \n",
              "\n",
              "      Brookhaven Population  \n",
              "Year                         \n",
              "2099                   8661  \n",
              "2300                   8007  \n",
              "2400                   2940  "
            ]
          },
          "execution_count": 25,
          "metadata": {},
          "output_type": "execute_result"
        }
      ],
      "source": [
        "# Entire DataFrame\n",
        "df"
      ]
    },
    {
      "cell_type": "code",
      "execution_count": 26,
      "metadata": {},
      "outputs": [
        {
          "data": {
            "text/plain": [
              "5444"
            ]
          },
          "execution_count": 26,
          "metadata": {},
          "output_type": "execute_result"
        }
      ],
      "source": [
        "# Taking \"row #1\" to mean the row at index 1:\n",
        "\n",
        "# Value in row #1, Hempstead\n",
        "# use 2300 to access row #1 since year is used as the index\n",
        "df.at[2300, 'Hempstead Population']"
      ]
    },
    {
      "cell_type": "code",
      "execution_count": 27,
      "metadata": {},
      "outputs": [
        {
          "name": "stdout",
          "output_type": "stream",
          "text": [
            "5444\n",
            "5444\n"
          ]
        }
      ],
      "source": [
        "# alternatively\n",
        "print(df.iloc[1]['Hempstead Population'])\n",
        "print(df['Hempstead Population'].iloc[1])"
      ]
    },
    {
      "cell_type": "markdown",
      "metadata": {},
      "source": [
        "#### Result of Task 3-3"
      ]
    },
    {
      "cell_type": "code",
      "execution_count": 28,
      "metadata": {},
      "outputs": [
        {
          "data": {
            "text/html": [
              "<div>\n",
              "<style scoped>\n",
              "    .dataframe tbody tr th:only-of-type {\n",
              "        vertical-align: middle;\n",
              "    }\n",
              "\n",
              "    .dataframe tbody tr th {\n",
              "        vertical-align: top;\n",
              "    }\n",
              "\n",
              "    .dataframe thead th {\n",
              "        text-align: right;\n",
              "    }\n",
              "</style>\n",
              "<table border=\"1\" class=\"dataframe\">\n",
              "  <thead>\n",
              "    <tr style=\"text-align: right;\">\n",
              "      <th></th>\n",
              "      <th>Hempstead Population</th>\n",
              "      <th>Babylon Population</th>\n",
              "      <th>Islip Population</th>\n",
              "      <th>Brookhaven Population</th>\n",
              "      <th>Riverhead Population</th>\n",
              "    </tr>\n",
              "    <tr>\n",
              "      <th>Year</th>\n",
              "      <th></th>\n",
              "      <th></th>\n",
              "      <th></th>\n",
              "      <th></th>\n",
              "      <th></th>\n",
              "    </tr>\n",
              "  </thead>\n",
              "  <tbody>\n",
              "    <tr>\n",
              "      <th>2099</th>\n",
              "      <td>2931</td>\n",
              "      <td>8043</td>\n",
              "      <td>8414</td>\n",
              "      <td>8661</td>\n",
              "      <td>17075</td>\n",
              "    </tr>\n",
              "    <tr>\n",
              "      <th>2300</th>\n",
              "      <td>5444</td>\n",
              "      <td>9227</td>\n",
              "      <td>7393</td>\n",
              "      <td>8007</td>\n",
              "      <td>15400</td>\n",
              "    </tr>\n",
              "    <tr>\n",
              "      <th>2400</th>\n",
              "      <td>1660</td>\n",
              "      <td>7977</td>\n",
              "      <td>4730</td>\n",
              "      <td>2940</td>\n",
              "      <td>7670</td>\n",
              "    </tr>\n",
              "  </tbody>\n",
              "</table>\n",
              "</div>"
            ],
            "text/plain": [
              "      Hempstead Population  Babylon Population  Islip Population  \\\n",
              "Year                                                               \n",
              "2099                  2931                8043              8414   \n",
              "2300                  5444                9227              7393   \n",
              "2400                  1660                7977              4730   \n",
              "\n",
              "      Brookhaven Population  Riverhead Population  \n",
              "Year                                               \n",
              "2099                   8661                 17075  \n",
              "2300                   8007                 15400  \n",
              "2400                   2940                  7670  "
            ]
          },
          "execution_count": 28,
          "metadata": {},
          "output_type": "execute_result"
        }
      ],
      "source": [
        "df['Riverhead Population'] = df['Islip Population'] + df['Brookhaven Population']\n",
        "df"
      ]
    },
    {
      "cell_type": "markdown",
      "metadata": {
        "id": "WqHDjQC-KLjo"
      },
      "source": [
        "## 4. Pandas II (15 pts)"
      ]
    },
    {
      "cell_type": "markdown",
      "metadata": {
        "id": "w6kHh8BENzHk"
      },
      "source": [
        "0. Download the cvs file that comes with this assignment, and read it into a dataframe. You can also download this [csv file](https://media.githubusercontent.com/media/datablist/sample-csv-files/main/files/customers/customers-100.csv) with this link.\n",
        "1. Arrange the data in alphabetical order based on the last name. Display the first few rows.\n",
        "2. Count the number of customers whose subscription date is in 2021 (2021-01-01 to 2021-12-31). Report this number (e.g. print)."
      ]
    },
    {
      "cell_type": "code",
      "execution_count": 29,
      "metadata": {},
      "outputs": [
        {
          "data": {
            "text/html": [
              "<div>\n",
              "<style scoped>\n",
              "    .dataframe tbody tr th:only-of-type {\n",
              "        vertical-align: middle;\n",
              "    }\n",
              "\n",
              "    .dataframe tbody tr th {\n",
              "        vertical-align: top;\n",
              "    }\n",
              "\n",
              "    .dataframe thead th {\n",
              "        text-align: right;\n",
              "    }\n",
              "</style>\n",
              "<table border=\"1\" class=\"dataframe\">\n",
              "  <thead>\n",
              "    <tr style=\"text-align: right;\">\n",
              "      <th></th>\n",
              "      <th>Index</th>\n",
              "      <th>Customer Id</th>\n",
              "      <th>First Name</th>\n",
              "      <th>Last Name</th>\n",
              "      <th>Company</th>\n",
              "      <th>City</th>\n",
              "      <th>Country</th>\n",
              "      <th>Phone 1</th>\n",
              "      <th>Phone 2</th>\n",
              "      <th>Email</th>\n",
              "      <th>Subscription Date</th>\n",
              "      <th>Website</th>\n",
              "    </tr>\n",
              "  </thead>\n",
              "  <tbody>\n",
              "    <tr>\n",
              "      <th>0</th>\n",
              "      <td>1</td>\n",
              "      <td>DD37Cf93aecA6Dc</td>\n",
              "      <td>Sheryl</td>\n",
              "      <td>Baxter</td>\n",
              "      <td>Rasmussen Group</td>\n",
              "      <td>East Leonard</td>\n",
              "      <td>Chile</td>\n",
              "      <td>229.077.5154</td>\n",
              "      <td>397.884.0519x718</td>\n",
              "      <td>zunigavanessa@smith.info</td>\n",
              "      <td>2020-08-24</td>\n",
              "      <td>http://www.stephenson.com/</td>\n",
              "    </tr>\n",
              "    <tr>\n",
              "      <th>1</th>\n",
              "      <td>2</td>\n",
              "      <td>1Ef7b82A4CAAD10</td>\n",
              "      <td>Preston</td>\n",
              "      <td>Lozano</td>\n",
              "      <td>Vega-Gentry</td>\n",
              "      <td>East Jimmychester</td>\n",
              "      <td>Djibouti</td>\n",
              "      <td>5153435776</td>\n",
              "      <td>686-620-1820x944</td>\n",
              "      <td>vmata@colon.com</td>\n",
              "      <td>2021-04-23</td>\n",
              "      <td>http://www.hobbs.com/</td>\n",
              "    </tr>\n",
              "    <tr>\n",
              "      <th>2</th>\n",
              "      <td>3</td>\n",
              "      <td>6F94879bDAfE5a6</td>\n",
              "      <td>Roy</td>\n",
              "      <td>Berry</td>\n",
              "      <td>Murillo-Perry</td>\n",
              "      <td>Isabelborough</td>\n",
              "      <td>Antigua and Barbuda</td>\n",
              "      <td>+1-539-402-0259</td>\n",
              "      <td>(496)978-3969x58947</td>\n",
              "      <td>beckycarr@hogan.com</td>\n",
              "      <td>2020-03-25</td>\n",
              "      <td>http://www.lawrence.com/</td>\n",
              "    </tr>\n",
              "    <tr>\n",
              "      <th>3</th>\n",
              "      <td>4</td>\n",
              "      <td>5Cef8BFA16c5e3c</td>\n",
              "      <td>Linda</td>\n",
              "      <td>Olsen</td>\n",
              "      <td>Dominguez, Mcmillan and Donovan</td>\n",
              "      <td>Bensonview</td>\n",
              "      <td>Dominican Republic</td>\n",
              "      <td>001-808-617-6467x12895</td>\n",
              "      <td>+1-813-324-8756</td>\n",
              "      <td>stanleyblackwell@benson.org</td>\n",
              "      <td>2020-06-02</td>\n",
              "      <td>http://www.good-lyons.com/</td>\n",
              "    </tr>\n",
              "    <tr>\n",
              "      <th>4</th>\n",
              "      <td>5</td>\n",
              "      <td>053d585Ab6b3159</td>\n",
              "      <td>Joanna</td>\n",
              "      <td>Bender</td>\n",
              "      <td>Martin, Lang and Andrade</td>\n",
              "      <td>West Priscilla</td>\n",
              "      <td>Slovakia (Slovak Republic)</td>\n",
              "      <td>001-234-203-0635x76146</td>\n",
              "      <td>001-199-446-3860x3486</td>\n",
              "      <td>colinalvarado@miles.net</td>\n",
              "      <td>2021-04-17</td>\n",
              "      <td>https://goodwin-ingram.com/</td>\n",
              "    </tr>\n",
              "  </tbody>\n",
              "</table>\n",
              "</div>"
            ],
            "text/plain": [
              "   Index      Customer Id First Name Last Name  \\\n",
              "0      1  DD37Cf93aecA6Dc     Sheryl    Baxter   \n",
              "1      2  1Ef7b82A4CAAD10    Preston    Lozano   \n",
              "2      3  6F94879bDAfE5a6        Roy     Berry   \n",
              "3      4  5Cef8BFA16c5e3c      Linda     Olsen   \n",
              "4      5  053d585Ab6b3159     Joanna    Bender   \n",
              "\n",
              "                           Company               City  \\\n",
              "0                  Rasmussen Group       East Leonard   \n",
              "1                      Vega-Gentry  East Jimmychester   \n",
              "2                    Murillo-Perry      Isabelborough   \n",
              "3  Dominguez, Mcmillan and Donovan         Bensonview   \n",
              "4         Martin, Lang and Andrade     West Priscilla   \n",
              "\n",
              "                      Country                 Phone 1                Phone 2  \\\n",
              "0                       Chile            229.077.5154       397.884.0519x718   \n",
              "1                    Djibouti              5153435776       686-620-1820x944   \n",
              "2         Antigua and Barbuda         +1-539-402-0259    (496)978-3969x58947   \n",
              "3          Dominican Republic  001-808-617-6467x12895        +1-813-324-8756   \n",
              "4  Slovakia (Slovak Republic)  001-234-203-0635x76146  001-199-446-3860x3486   \n",
              "\n",
              "                         Email Subscription Date                      Website  \n",
              "0     zunigavanessa@smith.info        2020-08-24   http://www.stephenson.com/  \n",
              "1              vmata@colon.com        2021-04-23        http://www.hobbs.com/  \n",
              "2          beckycarr@hogan.com        2020-03-25     http://www.lawrence.com/  \n",
              "3  stanleyblackwell@benson.org        2020-06-02   http://www.good-lyons.com/  \n",
              "4      colinalvarado@miles.net        2021-04-17  https://goodwin-ingram.com/  "
            ]
          },
          "execution_count": 29,
          "metadata": {},
          "output_type": "execute_result"
        }
      ],
      "source": [
        "# read in the \"customers-100\" data into a DataFrame\n",
        "data = pd.read_csv('data/customers-100.csv')\n",
        "data.head()"
      ]
    },
    {
      "cell_type": "markdown",
      "metadata": {},
      "source": [
        "#### Result of Task 4-1"
      ]
    },
    {
      "cell_type": "code",
      "execution_count": 30,
      "metadata": {},
      "outputs": [
        {
          "data": {
            "text/html": [
              "<div>\n",
              "<style scoped>\n",
              "    .dataframe tbody tr th:only-of-type {\n",
              "        vertical-align: middle;\n",
              "    }\n",
              "\n",
              "    .dataframe tbody tr th {\n",
              "        vertical-align: top;\n",
              "    }\n",
              "\n",
              "    .dataframe thead th {\n",
              "        text-align: right;\n",
              "    }\n",
              "</style>\n",
              "<table border=\"1\" class=\"dataframe\">\n",
              "  <thead>\n",
              "    <tr style=\"text-align: right;\">\n",
              "      <th></th>\n",
              "      <th>Customer Id</th>\n",
              "      <th>First Name</th>\n",
              "      <th>Last Name</th>\n",
              "      <th>Company</th>\n",
              "      <th>City</th>\n",
              "      <th>Country</th>\n",
              "      <th>Phone 1</th>\n",
              "      <th>Phone 2</th>\n",
              "      <th>Email</th>\n",
              "      <th>Subscription Date</th>\n",
              "      <th>Website</th>\n",
              "    </tr>\n",
              "    <tr>\n",
              "      <th>Index</th>\n",
              "      <th></th>\n",
              "      <th></th>\n",
              "      <th></th>\n",
              "      <th></th>\n",
              "      <th></th>\n",
              "      <th></th>\n",
              "      <th></th>\n",
              "      <th></th>\n",
              "      <th></th>\n",
              "      <th></th>\n",
              "      <th></th>\n",
              "    </tr>\n",
              "  </thead>\n",
              "  <tbody>\n",
              "    <tr>\n",
              "      <th>68</th>\n",
              "      <td>a014Ec1b9FccC1E</td>\n",
              "      <td>Tom</td>\n",
              "      <td>Alvarado</td>\n",
              "      <td>Donaldson-Dougherty</td>\n",
              "      <td>South Sophiaberg</td>\n",
              "      <td>Kiribati</td>\n",
              "      <td>(585)606-2980x2258</td>\n",
              "      <td>730-797-3594x5614</td>\n",
              "      <td>nicholsonnina@montgomery.info</td>\n",
              "      <td>2020-08-18</td>\n",
              "      <td>http://odom-massey.com/</td>\n",
              "    </tr>\n",
              "    <tr>\n",
              "      <th>97</th>\n",
              "      <td>CeD220bdAaCfaDf</td>\n",
              "      <td>Lynn</td>\n",
              "      <td>Atkinson</td>\n",
              "      <td>Ware, Burns and Oneal</td>\n",
              "      <td>New Bradview</td>\n",
              "      <td>Sri Lanka</td>\n",
              "      <td>+1-846-706-2218</td>\n",
              "      <td>605.413.3198</td>\n",
              "      <td>vkemp@ferrell.com</td>\n",
              "      <td>2021-07-10</td>\n",
              "      <td>https://novak-allison.com/</td>\n",
              "    </tr>\n",
              "    <tr>\n",
              "      <th>93</th>\n",
              "      <td>aAb6AFc7AfD0fF3</td>\n",
              "      <td>Collin</td>\n",
              "      <td>Ayers</td>\n",
              "      <td>Lamb-Peterson</td>\n",
              "      <td>South Lonnie</td>\n",
              "      <td>Anguilla</td>\n",
              "      <td>404-645-5351x012</td>\n",
              "      <td>001-257-582-8850x8516</td>\n",
              "      <td>dudleyemily@gonzales.biz</td>\n",
              "      <td>2021-06-29</td>\n",
              "      <td>http://www.ruiz.com/</td>\n",
              "    </tr>\n",
              "    <tr>\n",
              "      <th>1</th>\n",
              "      <td>DD37Cf93aecA6Dc</td>\n",
              "      <td>Sheryl</td>\n",
              "      <td>Baxter</td>\n",
              "      <td>Rasmussen Group</td>\n",
              "      <td>East Leonard</td>\n",
              "      <td>Chile</td>\n",
              "      <td>229.077.5154</td>\n",
              "      <td>397.884.0519x718</td>\n",
              "      <td>zunigavanessa@smith.info</td>\n",
              "      <td>2020-08-24</td>\n",
              "      <td>http://www.stephenson.com/</td>\n",
              "    </tr>\n",
              "    <tr>\n",
              "      <th>16</th>\n",
              "      <td>8cad0b4CBceaeec</td>\n",
              "      <td>Miranda</td>\n",
              "      <td>Beasley</td>\n",
              "      <td>Singleton and Sons</td>\n",
              "      <td>Desireeshire</td>\n",
              "      <td>Oman</td>\n",
              "      <td>540.085.3135x185</td>\n",
              "      <td>+1-600-462-6432x21881</td>\n",
              "      <td>vduncan@parks-hardy.com</td>\n",
              "      <td>2022-04-12</td>\n",
              "      <td>http://acosta.org/</td>\n",
              "    </tr>\n",
              "  </tbody>\n",
              "</table>\n",
              "</div>"
            ],
            "text/plain": [
              "           Customer Id First Name Last Name                Company  \\\n",
              "Index                                                                \n",
              "68     a014Ec1b9FccC1E        Tom  Alvarado    Donaldson-Dougherty   \n",
              "97     CeD220bdAaCfaDf       Lynn  Atkinson  Ware, Burns and Oneal   \n",
              "93     aAb6AFc7AfD0fF3     Collin     Ayers          Lamb-Peterson   \n",
              "1      DD37Cf93aecA6Dc     Sheryl    Baxter        Rasmussen Group   \n",
              "16     8cad0b4CBceaeec    Miranda   Beasley     Singleton and Sons   \n",
              "\n",
              "                   City    Country             Phone 1                Phone 2  \\\n",
              "Index                                                                           \n",
              "68     South Sophiaberg   Kiribati  (585)606-2980x2258      730-797-3594x5614   \n",
              "97         New Bradview  Sri Lanka     +1-846-706-2218           605.413.3198   \n",
              "93         South Lonnie   Anguilla    404-645-5351x012  001-257-582-8850x8516   \n",
              "1          East Leonard      Chile        229.077.5154       397.884.0519x718   \n",
              "16         Desireeshire       Oman    540.085.3135x185  +1-600-462-6432x21881   \n",
              "\n",
              "                               Email Subscription Date  \\\n",
              "Index                                                    \n",
              "68     nicholsonnina@montgomery.info        2020-08-18   \n",
              "97                 vkemp@ferrell.com        2021-07-10   \n",
              "93          dudleyemily@gonzales.biz        2021-06-29   \n",
              "1           zunigavanessa@smith.info        2020-08-24   \n",
              "16           vduncan@parks-hardy.com        2022-04-12   \n",
              "\n",
              "                          Website  \n",
              "Index                              \n",
              "68        http://odom-massey.com/  \n",
              "97     https://novak-allison.com/  \n",
              "93           http://www.ruiz.com/  \n",
              "1      http://www.stephenson.com/  \n",
              "16             http://acosta.org/  "
            ]
          },
          "execution_count": 30,
          "metadata": {},
          "output_type": "execute_result"
        }
      ],
      "source": [
        "data = data.sort_values('Last Name')\n",
        "data = data.set_index('Index')\n",
        "data.head()"
      ]
    },
    {
      "cell_type": "markdown",
      "metadata": {},
      "source": [
        "#### Result of Task 4-2"
      ]
    },
    {
      "cell_type": "code",
      "execution_count": 31,
      "metadata": {},
      "outputs": [
        {
          "name": "stdout",
          "output_type": "stream",
          "text": [
            "There are 43 customers whose subscription dates are in 2021\n"
          ]
        }
      ],
      "source": [
        "# extract the entries that have a subscription date in 2021\n",
        "data_2021 = data[data['Subscription Date'].str[:4] == '2021']\n",
        "\n",
        "# count the number of items in this DataFrame\n",
        "num_in_2021 = len(data_2021)\n",
        "\n",
        "print(f'There are {num_in_2021} customers whose subscription dates are in 2021')"
      ]
    },
    {
      "cell_type": "markdown",
      "metadata": {
        "id": "aBpXtK8VvApb"
      },
      "source": [
        "## 5. LU decomposition (50 + 30 pts)\n"
      ]
    },
    {
      "cell_type": "markdown",
      "metadata": {
        "id": "ryafNieevrgZ"
      },
      "source": [
        "Part A (50 points)\n",
        "1. Write a function `LUdecomposition()` that takes as input a matrix $A\\in \\mathbb{R}^{n \\times n}$. Perform Gaussian Elimination to have this function return two matrices $L$ and $U$ such that $A=LU$.\n",
        "2. Your function should raise any relevant errors, for example, raise an error if a pure LU decomposition does not exist for $A$ (meaning that you have to perform pivoting, i.e., permutation of rows).\n",
        "3. Create several random matrices for the purpose of testing your function. Obtain the $L$ and $U$ matrices, and for each random matrix obtain its L and U matrices and perform a matrix multiplication (`np.matmul()`) to determine whether the outcome closely resembles the original matrix $A$, allowing for slight differences attributable to precision errors.\n",
        "\n",
        "\n",
        "Note: LU decomposition with Gaussian elimination should be covered in your undergraduate linear algebra class. It is also covered in AMS 510. If you do not know how, this 10 minute [video](https://www.youtube.com/watch?v=UlWcofkUDDU&ab_channel=Mathispower4u) explains it very well.\n",
        "\n",
        "Part B (30 bonus points)\n",
        "4. Not all square matrices have a pure LU decomposition. However, PLU decomposition always exists. Write another function `pivoting()` that takes as input a matrix $A$ and return the permutation/pivoting matrix $P$ such that $PA$ always has a pure LU decomposition.\n",
        "5. Find an example $A$ for which `LUdecomposition()` raises an error. Then, use `pivoting()` to find $P$, and find the pure LU decomposition of $PA$. Verify that indeed $PA = LU$ with matrix multiplication (`np.matmul()`).\n",
        "\n",
        "\n",
        "Hint: Please do not print out a giant matrix and visually examine the outcomes. Think of a way to verify your results and output a boolean value.\n"
      ]
    },
    {
      "cell_type": "markdown",
      "metadata": {
        "id": "QlP_giLsQRPM"
      },
      "source": [
        "Fact: LU and PLU decompositions are not unique."
      ]
    },
    {
      "cell_type": "code",
      "execution_count": 32,
      "metadata": {},
      "outputs": [],
      "source": [
        "class InvalidShapeException(Exception):\n",
        "    \"Raised when the dimensions of the input matrix do not match\"\n",
        "    pass "
      ]
    },
    {
      "cell_type": "code",
      "execution_count": 33,
      "metadata": {},
      "outputs": [],
      "source": [
        "class NeedsPivotException(Exception):\n",
        "    \"Raised when the input matrix has zeros in the main diagonal\"\n",
        "    pass "
      ]
    },
    {
      "cell_type": "code",
      "execution_count": 73,
      "metadata": {},
      "outputs": [],
      "source": [
        "class RowsCancelledOutException(Exception):\n",
        "    '''Raised when the input matrix has rows that are multiples of each\n",
        "    other and cancel each other out during elimination'''\n",
        "    pass\n"
      ]
    },
    {
      "cell_type": "code",
      "execution_count": 45,
      "metadata": {},
      "outputs": [],
      "source": [
        "def check_if_multiples(row_1: np.array, row_2: np.array) -> bool:\n",
        "    \"returns True if row_2 is a multiple of row_1, False if not\"\n",
        "    tolerance = 0.001\n",
        "    div = row_2 / row_1 \n",
        "    if max(div) - min(div) < tolerance:\n",
        "        return True \n",
        "    return False "
      ]
    },
    {
      "cell_type": "code",
      "execution_count": 127,
      "metadata": {},
      "outputs": [],
      "source": [
        "def LUdecomposition(A: np.array) -> [np.array, np.array]:\n",
        "    # takes (n x n) matrix A as an input and returns a list\n",
        "    # containing the resulting L and U matrices from \n",
        "    # the LU decomposition process\n",
        "\n",
        "    # check if the input array has exactly two dimensions\n",
        "    if len(A.shape) != 2:\n",
        "        raise InvalidShapeException(\"Input A is not 2-dimensional\")\n",
        "\n",
        "    # check if the input array is square shape\n",
        "    rows, cols = A.shape\n",
        "    if rows != cols:\n",
        "        raise InvalidShapeException(\"Input A is not (n x n)\")\n",
        "    \n",
        "    # check if there are any 0s present in the main diagonal\n",
        "    if 0 in A.diagonal():\n",
        "        raise NeedsPivotException(\"Pure LU Decomposition does not exist \" + \n",
        "                                  \"for input A. Pivoting is needed.\")\n",
        "    \n",
        "    # check if any rows are multiples of each other \n",
        "    for i in range(rows):\n",
        "        for j in range(i + 1, rows):\n",
        "            if check_if_multiples(A[i], A[j]):\n",
        "                raise RowsCancelledOutException(f'{A[i]} and {A[j]} are multiples. They will reduce to 0s.')\n",
        "\n",
        "    # matrix U starts off identical to the input A\n",
        "    # matrix L starts off as the identity matrix\n",
        "    U = A.copy().astype(float)\n",
        "    L = np.identity(rows)\n",
        "\n",
        "    for i in range(rows):\n",
        "        # get the leading term for that row (the term on the main diagonal)\n",
        "        lead = U[i, i]\n",
        "        \n",
        "        # want to reduce all the terms below the leading term to 0\n",
        "        for j in range(i + 1, rows):\n",
        "            # calculate the multiplier for the current term that will\n",
        "            # allow it to sum to 0 with each term below it \n",
        "            multiplier = float(-U[j, i] / lead) \n",
        "\n",
        "            # multiply the current row by the scalar multiplier and then\n",
        "            # add this row to the remaining iterated rows\n",
        "            multiplied_row = U[i] * multiplier \n",
        "            U[j] = U[j] + multiplied_row \n",
        "\n",
        "            # the element in array L at the current row and column will be\n",
        "            # the negated version of the multiplier\n",
        "            L[j, i] = -multiplier\n",
        "    \n",
        "    return [U, L]"
      ]
    },
    {
      "cell_type": "code",
      "execution_count": 142,
      "metadata": {},
      "outputs": [],
      "source": [
        "U, L = LUdecomposition(np.array([[6, 18, 3], \n",
        "                                 [2, 12, 1], \n",
        "                                 [4, 15, 3]]))"
      ]
    },
    {
      "cell_type": "code",
      "execution_count": 143,
      "metadata": {},
      "outputs": [
        {
          "data": {
            "text/plain": [
              "array([[ 6., 18.,  3.],\n",
              "       [ 0.,  6.,  0.],\n",
              "       [ 0.,  0.,  1.]])"
            ]
          },
          "execution_count": 143,
          "metadata": {},
          "output_type": "execute_result"
        }
      ],
      "source": [
        "U"
      ]
    },
    {
      "cell_type": "code",
      "execution_count": 144,
      "metadata": {},
      "outputs": [
        {
          "data": {
            "text/plain": [
              "array([[1.        , 0.        , 0.        ],\n",
              "       [0.33333333, 1.        , 0.        ],\n",
              "       [0.66666667, 0.5       , 1.        ]])"
            ]
          },
          "execution_count": 144,
          "metadata": {},
          "output_type": "execute_result"
        }
      ],
      "source": [
        "L"
      ]
    },
    {
      "cell_type": "code",
      "execution_count": 91,
      "metadata": {},
      "outputs": [
        {
          "data": {
            "text/plain": [
              "array([[ 1,  4, -3],\n",
              "       [-2,  8,  5],\n",
              "       [ 3,  4,  7]])"
            ]
          },
          "execution_count": 91,
          "metadata": {},
          "output_type": "execute_result"
        }
      ],
      "source": [
        "B = np.array([[1, 4, -3], [-2, 8, 5], [3, 4, 7]])\n",
        "B"
      ]
    },
    {
      "cell_type": "code",
      "execution_count": 37,
      "metadata": {},
      "outputs": [
        {
          "data": {
            "text/plain": [
              "array([[1, 2, 3],\n",
              "       [4, 5, 6],\n",
              "       [7, 8, 9]])"
            ]
          },
          "execution_count": 37,
          "metadata": {},
          "output_type": "execute_result"
        }
      ],
      "source": [
        "a = np.array([1, 2, 3, 4, 5, 6, 7, 8, 9]).reshape(3, 3)\n",
        "a"
      ]
    },
    {
      "cell_type": "code",
      "execution_count": 38,
      "metadata": {},
      "outputs": [
        {
          "data": {
            "text/plain": [
              "array([[1, 2, 3],\n",
              "       [4, 5, 6],\n",
              "       [7, 8, 9]])"
            ]
          },
          "execution_count": 38,
          "metadata": {},
          "output_type": "execute_result"
        }
      ],
      "source": [
        "l = a.copy()\n",
        "l[0,0] = 10\n",
        "a"
      ]
    },
    {
      "cell_type": "code",
      "execution_count": 39,
      "metadata": {},
      "outputs": [
        {
          "data": {
            "text/plain": [
              "array([[1., 0., 0.],\n",
              "       [0., 1., 0.],\n",
              "       [0., 0., 1.]])"
            ]
          },
          "execution_count": 39,
          "metadata": {},
          "output_type": "execute_result"
        }
      ],
      "source": [
        "np.identity(3)"
      ]
    },
    {
      "cell_type": "code",
      "execution_count": 40,
      "metadata": {},
      "outputs": [
        {
          "data": {
            "text/plain": [
              "array([[10,  2,  3],\n",
              "       [ 4,  5,  6],\n",
              "       [ 7,  8,  9]])"
            ]
          },
          "execution_count": 40,
          "metadata": {},
          "output_type": "execute_result"
        }
      ],
      "source": [
        "l"
      ]
    },
    {
      "cell_type": "markdown",
      "metadata": {
        "id": "X_4ITuoU53KF"
      },
      "source": [
        "## 6. Markov Chain (30 pts)"
      ]
    },
    {
      "cell_type": "markdown",
      "metadata": {
        "id": "X2-wBoxIWLQs"
      },
      "source": [
        "**BACKGROUND:** Consider a Markov chain transition matrix $P$ on a set of $n$ states, where $P_{i j}$ corresponds to the probability $\\left(0 \\leq P_{i j} \\leq 1\\right)$ to go from state $i$ to the state $j$, and each row is normalized so that\n",
        "$$\n",
        "\\sum_{j=1}^n P_{i j}=1 .\n",
        "$$\n",
        "\n",
        "Let $p$ be a size- $n$ vector composed of the probability distribution over the $n$ states, where\n",
        "$$\n",
        "\\sum_{j=1}^n p_j=1 .\n",
        "$$\n",
        "\n",
        "The transition rule corresponding to the transition matrix $P$ is $\\hat{p}=P^T p$, where $\\hat{p}$ corresponds to a new probability distribution and\n",
        "$$\n",
        "\\sum_{j=1}^n \\hat{p}_j=1 .\n",
        "$$\n",
        "TASK: Write a program that works with 5 states `only use the numpy library`. In particular,\n",
        "0. Fix the random seed to be the last digit of your id: `numpy.random.seed()`.\n",
        "\n",
        "1. Construct a random $5 \\times 5$ matrix $P$, and normalize each row so that\n",
        "$$\n",
        "\\sum_{j=1}^5 P_{i j}=1 .\n",
        "$$\n",
        "\n",
        "2. Construct a random size-5 vector $p$ and normalize it so that\n",
        "$$\n",
        "\\sum_{j=1}^5 p_j=1 .\n",
        "$$\n",
        "Apply the transition rule 50 times to obtain $p_{50}$.\n",
        "3. Compute the eigenvector $v$ of $P^T$ corresponding to the eigenvalue 1 (and numerically, the eigenvalue closest to $1)$, and then scale the eigenvector so that\n",
        "$$\n",
        "\\sum_{j=1}^5 v_j=1 .\n",
        "$$\n",
        "This scaled eigenvector is known as the stationary distribution.\n",
        "\n",
        "4. Compute the component wise difference between $p_{50}$ and the stationary distribution. Do they match with each other within $1 \\mathrm{e}-5$ ?\n",
        "\n",
        "HINTS: You may find the following functions useful in your implementation:\n",
        "- np.random.rand\n",
        "- np.dot\n",
        "- np.linalg.eig"
      ]
    }
  ],
  "metadata": {
    "accelerator": "GPU",
    "anaconda-cloud": {},
    "colab": {
      "collapsed_sections": [
        "KR0Fl4yAQYad",
        "U5SL2j0sqnAJ",
        "29VDnBBE5pUV",
        "uzMa1xSEwhe3",
        "YCD9beX75Yp7",
        "aCgIDqeLBPjj",
        "WqHDjQC-KLjo",
        "wzeYQOW0OCH3",
        "X_4ITuoU53KF",
        "yoMb8G9jXWcu"
      ],
      "gpuType": "T4",
      "provenance": []
    },
    "kernelspec": {
      "display_name": "Python 3",
      "name": "python3"
    },
    "language_info": {
      "codemirror_mode": {
        "name": "ipython",
        "version": 3
      },
      "file_extension": ".py",
      "mimetype": "text/x-python",
      "name": "python",
      "nbconvert_exporter": "python",
      "pygments_lexer": "ipython3",
      "version": "3.8.2"
    }
  },
  "nbformat": 4,
  "nbformat_minor": 0
}
